{
 "cells": [
  {
   "cell_type": "code",
   "execution_count": 2,
   "metadata": {},
   "outputs": [],
   "source": [
    "import pandas as pd\n",
    "import numpy as np\n",
    "import matplotlib.pyplot as plt "
   ]
  },
  {
   "cell_type": "code",
   "execution_count": 4,
   "metadata": {},
   "outputs": [
    {
     "data": {
      "text/html": [
       "<div>\n",
       "<style scoped>\n",
       "    .dataframe tbody tr th:only-of-type {\n",
       "        vertical-align: middle;\n",
       "    }\n",
       "\n",
       "    .dataframe tbody tr th {\n",
       "        vertical-align: top;\n",
       "    }\n",
       "\n",
       "    .dataframe thead th {\n",
       "        text-align: right;\n",
       "    }\n",
       "</style>\n",
       "<table border=\"1\" class=\"dataframe\">\n",
       "  <thead>\n",
       "    <tr style=\"text-align: right;\">\n",
       "      <th></th>\n",
       "      <th>RowNumber</th>\n",
       "      <th>CustomerId</th>\n",
       "      <th>Surname</th>\n",
       "      <th>CreditScore</th>\n",
       "      <th>Geography</th>\n",
       "      <th>Gender</th>\n",
       "      <th>Age</th>\n",
       "      <th>Tenure</th>\n",
       "      <th>Balance</th>\n",
       "      <th>NumOfProducts</th>\n",
       "      <th>HasCrCard</th>\n",
       "      <th>IsActiveMember</th>\n",
       "      <th>EstimatedSalary</th>\n",
       "      <th>Exited</th>\n",
       "    </tr>\n",
       "  </thead>\n",
       "  <tbody>\n",
       "    <tr>\n",
       "      <th>0</th>\n",
       "      <td>1</td>\n",
       "      <td>15634602</td>\n",
       "      <td>Hargrave</td>\n",
       "      <td>619</td>\n",
       "      <td>France</td>\n",
       "      <td>Female</td>\n",
       "      <td>42</td>\n",
       "      <td>2</td>\n",
       "      <td>0.00</td>\n",
       "      <td>1</td>\n",
       "      <td>1</td>\n",
       "      <td>1</td>\n",
       "      <td>101348.88</td>\n",
       "      <td>1</td>\n",
       "    </tr>\n",
       "    <tr>\n",
       "      <th>1</th>\n",
       "      <td>2</td>\n",
       "      <td>15647311</td>\n",
       "      <td>Hill</td>\n",
       "      <td>608</td>\n",
       "      <td>Spain</td>\n",
       "      <td>Female</td>\n",
       "      <td>41</td>\n",
       "      <td>1</td>\n",
       "      <td>83807.86</td>\n",
       "      <td>1</td>\n",
       "      <td>0</td>\n",
       "      <td>1</td>\n",
       "      <td>112542.58</td>\n",
       "      <td>0</td>\n",
       "    </tr>\n",
       "    <tr>\n",
       "      <th>2</th>\n",
       "      <td>3</td>\n",
       "      <td>15619304</td>\n",
       "      <td>Onio</td>\n",
       "      <td>502</td>\n",
       "      <td>France</td>\n",
       "      <td>Female</td>\n",
       "      <td>42</td>\n",
       "      <td>8</td>\n",
       "      <td>159660.80</td>\n",
       "      <td>3</td>\n",
       "      <td>1</td>\n",
       "      <td>0</td>\n",
       "      <td>113931.57</td>\n",
       "      <td>1</td>\n",
       "    </tr>\n",
       "    <tr>\n",
       "      <th>3</th>\n",
       "      <td>4</td>\n",
       "      <td>15701354</td>\n",
       "      <td>Boni</td>\n",
       "      <td>699</td>\n",
       "      <td>France</td>\n",
       "      <td>Female</td>\n",
       "      <td>39</td>\n",
       "      <td>1</td>\n",
       "      <td>0.00</td>\n",
       "      <td>2</td>\n",
       "      <td>0</td>\n",
       "      <td>0</td>\n",
       "      <td>93826.63</td>\n",
       "      <td>0</td>\n",
       "    </tr>\n",
       "    <tr>\n",
       "      <th>4</th>\n",
       "      <td>5</td>\n",
       "      <td>15737888</td>\n",
       "      <td>Mitchell</td>\n",
       "      <td>850</td>\n",
       "      <td>Spain</td>\n",
       "      <td>Female</td>\n",
       "      <td>43</td>\n",
       "      <td>2</td>\n",
       "      <td>125510.82</td>\n",
       "      <td>1</td>\n",
       "      <td>1</td>\n",
       "      <td>1</td>\n",
       "      <td>79084.10</td>\n",
       "      <td>0</td>\n",
       "    </tr>\n",
       "  </tbody>\n",
       "</table>\n",
       "</div>"
      ],
      "text/plain": [
       "   RowNumber  CustomerId   Surname  CreditScore Geography  Gender  Age  \\\n",
       "0          1    15634602  Hargrave          619    France  Female   42   \n",
       "1          2    15647311      Hill          608     Spain  Female   41   \n",
       "2          3    15619304      Onio          502    France  Female   42   \n",
       "3          4    15701354      Boni          699    France  Female   39   \n",
       "4          5    15737888  Mitchell          850     Spain  Female   43   \n",
       "\n",
       "   Tenure    Balance  NumOfProducts  HasCrCard  IsActiveMember  \\\n",
       "0       2       0.00              1          1               1   \n",
       "1       1   83807.86              1          0               1   \n",
       "2       8  159660.80              3          1               0   \n",
       "3       1       0.00              2          0               0   \n",
       "4       2  125510.82              1          1               1   \n",
       "\n",
       "   EstimatedSalary  Exited  \n",
       "0        101348.88       1  \n",
       "1        112542.58       0  \n",
       "2        113931.57       1  \n",
       "3         93826.63       0  \n",
       "4         79084.10       0  "
      ]
     },
     "execution_count": 4,
     "metadata": {},
     "output_type": "execute_result"
    }
   ],
   "source": [
    "data=pd.read_csv('Churn_Modelling.csv')\n",
    "data.head()"
   ]
  },
  {
   "cell_type": "code",
   "execution_count": 39,
   "metadata": {},
   "outputs": [],
   "source": [
    "X=data.iloc[:,3:13]\n",
    "Y=data.iloc[:,-1]"
   ]
  },
  {
   "cell_type": "code",
   "execution_count": 40,
   "metadata": {
    "scrolled": true
   },
   "outputs": [],
   "source": [
    "geography=pd.get_dummies(X['Geography'],drop_first=True)\n",
    "Gender=pd.get_dummies(X['Gender'],drop_first=True)\n",
    "X=pd.concat([X,geography,Gender],axis=1)\n",
    "X=X.drop(['Geography','Gender'],axis=1)"
   ]
  },
  {
   "cell_type": "code",
   "execution_count": 41,
   "metadata": {},
   "outputs": [],
   "source": [
    "from sklearn.model_selection import train_test_split\n",
    "X_train,X_test,Y_train,Y_test=train_test_split(X,Y,test_size=0.2,random_state=42)"
   ]
  },
  {
   "cell_type": "code",
   "execution_count": 42,
   "metadata": {},
   "outputs": [
    {
     "name": "stderr",
     "output_type": "stream",
     "text": [
      "/home/grahul@idexcel.internal/anaconda3/lib/python3.7/site-packages/sklearn/preprocessing/data.py:645: DataConversionWarning: Data with input dtype uint8, int64, float64 were all converted to float64 by StandardScaler.\n",
      "  return self.partial_fit(X, y)\n",
      "/home/grahul@idexcel.internal/anaconda3/lib/python3.7/site-packages/sklearn/base.py:464: DataConversionWarning: Data with input dtype uint8, int64, float64 were all converted to float64 by StandardScaler.\n",
      "  return self.fit(X, **fit_params).transform(X)\n",
      "/home/grahul@idexcel.internal/anaconda3/lib/python3.7/site-packages/ipykernel_launcher.py:4: DataConversionWarning: Data with input dtype uint8, int64, float64 were all converted to float64 by StandardScaler.\n",
      "  after removing the cwd from sys.path.\n"
     ]
    }
   ],
   "source": [
    "from sklearn.preprocessing import StandardScaler\n",
    "sc=StandardScaler()\n",
    "X_train=sc.fit_transform(X_train)\n",
    "X_test=sc.transform(X_test)"
   ]
  },
  {
   "cell_type": "code",
   "execution_count": 44,
   "metadata": {},
   "outputs": [],
   "source": [
    "import keras\n",
    "from keras.models import Sequential\n",
    "from keras.layers import Dense\n",
    "from keras.layers import ReLU,LeakyReLU,PReLU\n",
    "from keras.layers import Dropout"
   ]
  },
  {
   "cell_type": "code",
   "execution_count": 65,
   "metadata": {},
   "outputs": [],
   "source": [
    "classfier=Sequential()\n",
    "classfier.add(Dense(units=10,kernel_initializer='he_normal',activation='relu',input_dim=11))\n",
    "classfier.add(Dense(units=20,kernel_initializer='he_normal',activation='relu'))\n",
    "classfier.add(Dense(units=15,kernel_initializer='he_normal',activation='relu'))\n",
    "classfier.add(Dense(units=1,kernel_initializer='glorot_uniform',activation='sigmoid'))\n",
    "classfier.compile(optimizer='Adam',loss='binary_crossentropy',metrics=['accuracy'])"
   ]
  },
  {
   "cell_type": "code",
   "execution_count": 66,
   "metadata": {},
   "outputs": [
    {
     "name": "stdout",
     "output_type": "stream",
     "text": [
      "Model: \"sequential_10\"\n",
      "_________________________________________________________________\n",
      "Layer (type)                 Output Shape              Param #   \n",
      "=================================================================\n",
      "dense_19 (Dense)             (None, 10)                120       \n",
      "_________________________________________________________________\n",
      "dense_20 (Dense)             (None, 20)                220       \n",
      "_________________________________________________________________\n",
      "dense_21 (Dense)             (None, 15)                315       \n",
      "_________________________________________________________________\n",
      "dense_22 (Dense)             (None, 1)                 16        \n",
      "=================================================================\n",
      "Total params: 671\n",
      "Trainable params: 671\n",
      "Non-trainable params: 0\n",
      "_________________________________________________________________\n"
     ]
    }
   ],
   "source": [
    "classfier.summary()"
   ]
  },
  {
   "cell_type": "code",
   "execution_count": 67,
   "metadata": {
    "scrolled": true
   },
   "outputs": [
    {
     "name": "stderr",
     "output_type": "stream",
     "text": [
      "/home/grahul@idexcel.internal/anaconda3/lib/python3.7/site-packages/ipykernel_launcher.py:1: UserWarning: The `nb_epoch` argument in `fit` has been renamed `epochs`.\n",
      "  \"\"\"Entry point for launching an IPython kernel.\n"
     ]
    },
    {
     "name": "stdout",
     "output_type": "stream",
     "text": [
      "Train on 5359 samples, validate on 2641 samples\n",
      "Epoch 1/100\n",
      "5359/5359 [==============================] - 3s 507us/step - loss: 0.4762 - accuracy: 0.7947 - val_loss: 0.4543 - val_accuracy: 0.8031\n",
      "Epoch 2/100\n",
      "5359/5359 [==============================] - 2s 379us/step - loss: 0.4429 - accuracy: 0.8082 - val_loss: 0.4408 - val_accuracy: 0.8141\n",
      "Epoch 3/100\n",
      "5359/5359 [==============================] - 2s 377us/step - loss: 0.4271 - accuracy: 0.8209 - val_loss: 0.4328 - val_accuracy: 0.8179\n",
      "Epoch 4/100\n",
      "5359/5359 [==============================] - 2s 357us/step - loss: 0.4154 - accuracy: 0.8246 - val_loss: 0.4260 - val_accuracy: 0.8243\n",
      "Epoch 5/100\n",
      "5359/5359 [==============================] - 2s 392us/step - loss: 0.4063 - accuracy: 0.8315 - val_loss: 0.4227 - val_accuracy: 0.8236\n",
      "Epoch 6/100\n",
      "5359/5359 [==============================] - 3s 488us/step - loss: 0.3993 - accuracy: 0.8334 - val_loss: 0.4168 - val_accuracy: 0.8281\n",
      "Epoch 7/100\n",
      "5359/5359 [==============================] - 2s 436us/step - loss: 0.3920 - accuracy: 0.8406 - val_loss: 0.4174 - val_accuracy: 0.8300\n",
      "Epoch 8/100\n",
      "5359/5359 [==============================] - 3s 545us/step - loss: 0.3859 - accuracy: 0.8391 - val_loss: 0.4090 - val_accuracy: 0.8307\n",
      "Epoch 9/100\n",
      "5359/5359 [==============================] - 3s 501us/step - loss: 0.3804 - accuracy: 0.8421 - val_loss: 0.4075 - val_accuracy: 0.8330\n",
      "Epoch 10/100\n",
      "5359/5359 [==============================] - 2s 350us/step - loss: 0.3715 - accuracy: 0.8459 - val_loss: 0.4070 - val_accuracy: 0.8311\n",
      "Epoch 11/100\n",
      "5359/5359 [==============================] - 2s 391us/step - loss: 0.3655 - accuracy: 0.8466 - val_loss: 0.3964 - val_accuracy: 0.8349\n",
      "Epoch 12/100\n",
      "5359/5359 [==============================] - 2s 446us/step - loss: 0.3585 - accuracy: 0.8530 - val_loss: 0.3855 - val_accuracy: 0.8383\n",
      "Epoch 13/100\n",
      "5359/5359 [==============================] - 3s 520us/step - loss: 0.3517 - accuracy: 0.8537 - val_loss: 0.3816 - val_accuracy: 0.8436\n",
      "Epoch 14/100\n",
      "5359/5359 [==============================] - 3s 512us/step - loss: 0.3451 - accuracy: 0.8572 - val_loss: 0.3790 - val_accuracy: 0.8436\n",
      "Epoch 15/100\n",
      "5359/5359 [==============================] - 2s 367us/step - loss: 0.3400 - accuracy: 0.8572 - val_loss: 0.3745 - val_accuracy: 0.8463\n",
      "Epoch 16/100\n",
      "5359/5359 [==============================] - 2s 361us/step - loss: 0.3359 - accuracy: 0.8632 - val_loss: 0.3690 - val_accuracy: 0.8493\n",
      "Epoch 17/100\n",
      "5359/5359 [==============================] - 2s 330us/step - loss: 0.3324 - accuracy: 0.8628 - val_loss: 0.3871 - val_accuracy: 0.8353\n",
      "Epoch 18/100\n",
      "5359/5359 [==============================] - 2s 339us/step - loss: 0.3300 - accuracy: 0.8625 - val_loss: 0.3685 - val_accuracy: 0.8489\n",
      "Epoch 19/100\n",
      "5359/5359 [==============================] - 2s 355us/step - loss: 0.3282 - accuracy: 0.8660 - val_loss: 0.3696 - val_accuracy: 0.8474\n",
      "Epoch 20/100\n",
      "5359/5359 [==============================] - 2s 342us/step - loss: 0.3267 - accuracy: 0.8686 - val_loss: 0.3650 - val_accuracy: 0.8497\n",
      "Epoch 21/100\n",
      "5359/5359 [==============================] - 2s 319us/step - loss: 0.3257 - accuracy: 0.8658 - val_loss: 0.3693 - val_accuracy: 0.8493\n",
      "Epoch 22/100\n",
      "5359/5359 [==============================] - 2s 318us/step - loss: 0.3237 - accuracy: 0.8673 - val_loss: 0.3648 - val_accuracy: 0.8497\n",
      "Epoch 23/100\n",
      "5359/5359 [==============================] - 2s 324us/step - loss: 0.3213 - accuracy: 0.8686 - val_loss: 0.3690 - val_accuracy: 0.8474\n",
      "Epoch 24/100\n",
      "5359/5359 [==============================] - 2s 326us/step - loss: 0.3209 - accuracy: 0.8640 - val_loss: 0.3630 - val_accuracy: 0.8493\n",
      "Epoch 25/100\n",
      "5359/5359 [==============================] - 2s 339us/step - loss: 0.3207 - accuracy: 0.8692 - val_loss: 0.3656 - val_accuracy: 0.8478\n",
      "Epoch 26/100\n",
      "5359/5359 [==============================] - 2s 375us/step - loss: 0.3196 - accuracy: 0.8690 - val_loss: 0.3670 - val_accuracy: 0.8504\n",
      "Epoch 27/100\n",
      "5359/5359 [==============================] - 2s 352us/step - loss: 0.3194 - accuracy: 0.8690 - val_loss: 0.3667 - val_accuracy: 0.8489\n",
      "Epoch 28/100\n",
      "5359/5359 [==============================] - 3s 582us/step - loss: 0.3183 - accuracy: 0.8703 - val_loss: 0.3669 - val_accuracy: 0.8501\n",
      "Epoch 29/100\n",
      "5359/5359 [==============================] - 3s 561us/step - loss: 0.3175 - accuracy: 0.8694 - val_loss: 0.3669 - val_accuracy: 0.8508\n",
      "Epoch 30/100\n",
      "5359/5359 [==============================] - 3s 488us/step - loss: 0.3175 - accuracy: 0.8703 - val_loss: 0.3672 - val_accuracy: 0.8523\n",
      "Epoch 31/100\n",
      "5359/5359 [==============================] - 3s 566us/step - loss: 0.3151 - accuracy: 0.8720 - val_loss: 0.3684 - val_accuracy: 0.8493\n",
      "Epoch 32/100\n",
      "5359/5359 [==============================] - 3s 551us/step - loss: 0.3162 - accuracy: 0.8690 - val_loss: 0.3664 - val_accuracy: 0.8463\n",
      "Epoch 33/100\n",
      "5359/5359 [==============================] - 3s 549us/step - loss: 0.3144 - accuracy: 0.8696 - val_loss: 0.3720 - val_accuracy: 0.8478\n",
      "Epoch 34/100\n",
      "5359/5359 [==============================] - 3s 632us/step - loss: 0.3144 - accuracy: 0.8681 - val_loss: 0.3696 - val_accuracy: 0.8478\n",
      "Epoch 35/100\n",
      "5359/5359 [==============================] - 3s 524us/step - loss: 0.3139 - accuracy: 0.8698 - val_loss: 0.3698 - val_accuracy: 0.8455\n",
      "Epoch 36/100\n",
      "5359/5359 [==============================] - 2s 461us/step - loss: 0.3127 - accuracy: 0.8694 - val_loss: 0.3749 - val_accuracy: 0.8474\n",
      "Epoch 37/100\n",
      "5359/5359 [==============================] - 3s 572us/step - loss: 0.3123 - accuracy: 0.8720 - val_loss: 0.3750 - val_accuracy: 0.8429\n",
      "Epoch 38/100\n",
      "5359/5359 [==============================] - 3s 641us/step - loss: 0.3109 - accuracy: 0.8694 - val_loss: 0.3749 - val_accuracy: 0.8493\n",
      "Epoch 39/100\n",
      "5359/5359 [==============================] - 3s 512us/step - loss: 0.3103 - accuracy: 0.8735 - val_loss: 0.3757 - val_accuracy: 0.8448\n",
      "Epoch 40/100\n",
      "5359/5359 [==============================] - 3s 540us/step - loss: 0.3111 - accuracy: 0.8720 - val_loss: 0.3725 - val_accuracy: 0.8463\n",
      "Epoch 41/100\n",
      "5359/5359 [==============================] - 3s 479us/step - loss: 0.3100 - accuracy: 0.8692 - val_loss: 0.3713 - val_accuracy: 0.8466\n",
      "Epoch 42/100\n",
      "5359/5359 [==============================] - 4s 672us/step - loss: 0.3084 - accuracy: 0.8718 - val_loss: 0.3793 - val_accuracy: 0.8429\n",
      "Epoch 43/100\n",
      "5359/5359 [==============================] - 3s 549us/step - loss: 0.3089 - accuracy: 0.8718 - val_loss: 0.3728 - val_accuracy: 0.8459\n",
      "Epoch 44/100\n",
      "5359/5359 [==============================] - 2s 465us/step - loss: 0.3081 - accuracy: 0.8699 - val_loss: 0.3813 - val_accuracy: 0.8432\n",
      "Epoch 45/100\n",
      "5359/5359 [==============================] - 4s 661us/step - loss: 0.3077 - accuracy: 0.8694 - val_loss: 0.3808 - val_accuracy: 0.8406\n",
      "Epoch 46/100\n",
      "5359/5359 [==============================] - 3s 597us/step - loss: 0.3065 - accuracy: 0.8724 - val_loss: 0.3756 - val_accuracy: 0.8444\n",
      "Epoch 47/100\n",
      "5359/5359 [==============================] - 3s 560us/step - loss: 0.3059 - accuracy: 0.8718 - val_loss: 0.3788 - val_accuracy: 0.8459\n",
      "Epoch 48/100\n",
      "5359/5359 [==============================] - 3s 635us/step - loss: 0.3056 - accuracy: 0.8731 - val_loss: 0.3771 - val_accuracy: 0.8406\n",
      "Epoch 49/100\n",
      "5359/5359 [==============================] - 3s 542us/step - loss: 0.3050 - accuracy: 0.8744 - val_loss: 0.3788 - val_accuracy: 0.8455\n",
      "Epoch 50/100\n",
      "5359/5359 [==============================] - 3s 584us/step - loss: 0.3050 - accuracy: 0.8729 - val_loss: 0.3735 - val_accuracy: 0.8429\n",
      "Epoch 51/100\n",
      "5359/5359 [==============================] - 3s 487us/step - loss: 0.3037 - accuracy: 0.8727 - val_loss: 0.3814 - val_accuracy: 0.8448\n",
      "Epoch 52/100\n",
      "5359/5359 [==============================] - 3s 592us/step - loss: 0.3042 - accuracy: 0.8735 - val_loss: 0.3810 - val_accuracy: 0.8432\n",
      "Epoch 53/100\n",
      "5359/5359 [==============================] - 3s 534us/step - loss: 0.3027 - accuracy: 0.8729 - val_loss: 0.3844 - val_accuracy: 0.8383\n",
      "Epoch 54/100\n",
      "5359/5359 [==============================] - 3s 497us/step - loss: 0.3024 - accuracy: 0.8731 - val_loss: 0.3794 - val_accuracy: 0.8478\n",
      "Epoch 55/100\n",
      "5359/5359 [==============================] - 3s 506us/step - loss: 0.3016 - accuracy: 0.8778 - val_loss: 0.3774 - val_accuracy: 0.8478\n",
      "Epoch 56/100\n"
     ]
    },
    {
     "name": "stdout",
     "output_type": "stream",
     "text": [
      "5359/5359 [==============================] - 2s 418us/step - loss: 0.3008 - accuracy: 0.8742 - val_loss: 0.3792 - val_accuracy: 0.8444\n",
      "Epoch 57/100\n",
      "5359/5359 [==============================] - 2s 402us/step - loss: 0.3005 - accuracy: 0.8761 - val_loss: 0.3985 - val_accuracy: 0.8311\n",
      "Epoch 58/100\n",
      "5359/5359 [==============================] - 2s 421us/step - loss: 0.2999 - accuracy: 0.8781 - val_loss: 0.3920 - val_accuracy: 0.8395\n",
      "Epoch 59/100\n",
      "5359/5359 [==============================] - 2s 455us/step - loss: 0.3008 - accuracy: 0.8752 - val_loss: 0.3807 - val_accuracy: 0.8429\n",
      "Epoch 60/100\n",
      "5359/5359 [==============================] - 2s 450us/step - loss: 0.2993 - accuracy: 0.8759 - val_loss: 0.3832 - val_accuracy: 0.8421\n",
      "Epoch 61/100\n",
      "5359/5359 [==============================] - 2s 391us/step - loss: 0.2997 - accuracy: 0.8752 - val_loss: 0.3808 - val_accuracy: 0.8463\n",
      "Epoch 62/100\n",
      "5359/5359 [==============================] - 2s 410us/step - loss: 0.2992 - accuracy: 0.8768 - val_loss: 0.3796 - val_accuracy: 0.8504\n",
      "Epoch 63/100\n",
      "5359/5359 [==============================] - 2s 417us/step - loss: 0.2989 - accuracy: 0.8750 - val_loss: 0.3882 - val_accuracy: 0.8459\n",
      "Epoch 64/100\n",
      "5359/5359 [==============================] - 2s 388us/step - loss: 0.2971 - accuracy: 0.8772 - val_loss: 0.3849 - val_accuracy: 0.8474\n",
      "Epoch 65/100\n",
      "5359/5359 [==============================] - 2s 456us/step - loss: 0.2969 - accuracy: 0.8742 - val_loss: 0.3891 - val_accuracy: 0.8417\n",
      "Epoch 66/100\n",
      "5359/5359 [==============================] - 2s 385us/step - loss: 0.2974 - accuracy: 0.8746 - val_loss: 0.3886 - val_accuracy: 0.8387\n",
      "Epoch 67/100\n",
      "5359/5359 [==============================] - 2s 389us/step - loss: 0.2967 - accuracy: 0.8761 - val_loss: 0.3880 - val_accuracy: 0.8463\n",
      "Epoch 68/100\n",
      "5359/5359 [==============================] - 2s 387us/step - loss: 0.2949 - accuracy: 0.8793 - val_loss: 0.4088 - val_accuracy: 0.8281\n",
      "Epoch 69/100\n",
      "5359/5359 [==============================] - 2s 427us/step - loss: 0.2946 - accuracy: 0.8789 - val_loss: 0.3838 - val_accuracy: 0.8421\n",
      "Epoch 70/100\n",
      "5359/5359 [==============================] - 2s 402us/step - loss: 0.2965 - accuracy: 0.8750 - val_loss: 0.3868 - val_accuracy: 0.8463\n",
      "Epoch 71/100\n",
      "5359/5359 [==============================] - 3s 497us/step - loss: 0.2947 - accuracy: 0.8804 - val_loss: 0.3925 - val_accuracy: 0.8372\n",
      "Epoch 72/100\n",
      "5359/5359 [==============================] - 2s 433us/step - loss: 0.2942 - accuracy: 0.8772 - val_loss: 0.3831 - val_accuracy: 0.8448\n",
      "Epoch 73/100\n",
      "5359/5359 [==============================] - 2s 384us/step - loss: 0.2943 - accuracy: 0.8804 - val_loss: 0.3880 - val_accuracy: 0.8478\n",
      "Epoch 74/100\n",
      "5359/5359 [==============================] - 2s 439us/step - loss: 0.2932 - accuracy: 0.8817 - val_loss: 0.3893 - val_accuracy: 0.8429\n",
      "Epoch 75/100\n",
      "5359/5359 [==============================] - 2s 428us/step - loss: 0.2928 - accuracy: 0.8798 - val_loss: 0.4002 - val_accuracy: 0.8387\n",
      "Epoch 76/100\n",
      "5359/5359 [==============================] - 2s 463us/step - loss: 0.2924 - accuracy: 0.8778 - val_loss: 0.3910 - val_accuracy: 0.8436\n",
      "Epoch 77/100\n",
      "5359/5359 [==============================] - 2s 459us/step - loss: 0.2925 - accuracy: 0.8808 - val_loss: 0.3903 - val_accuracy: 0.8451\n",
      "Epoch 78/100\n",
      "5359/5359 [==============================] - 2s 414us/step - loss: 0.2909 - accuracy: 0.8796 - val_loss: 0.3952 - val_accuracy: 0.8425\n",
      "Epoch 79/100\n",
      "5359/5359 [==============================] - 2s 403us/step - loss: 0.2918 - accuracy: 0.8780 - val_loss: 0.3961 - val_accuracy: 0.8421\n",
      "Epoch 80/100\n",
      "5359/5359 [==============================] - 2s 419us/step - loss: 0.2913 - accuracy: 0.8793 - val_loss: 0.3918 - val_accuracy: 0.8501\n",
      "Epoch 81/100\n",
      "5359/5359 [==============================] - 3s 488us/step - loss: 0.2905 - accuracy: 0.8793 - val_loss: 0.3984 - val_accuracy: 0.8410\n",
      "Epoch 82/100\n",
      "5359/5359 [==============================] - 3s 494us/step - loss: 0.2895 - accuracy: 0.8804 - val_loss: 0.3953 - val_accuracy: 0.8444\n",
      "Epoch 83/100\n",
      "5359/5359 [==============================] - 2s 416us/step - loss: 0.2914 - accuracy: 0.8806 - val_loss: 0.3970 - val_accuracy: 0.8417\n",
      "Epoch 84/100\n",
      "5359/5359 [==============================] - 2s 429us/step - loss: 0.2901 - accuracy: 0.8802 - val_loss: 0.3923 - val_accuracy: 0.8466\n",
      "Epoch 85/100\n",
      "5359/5359 [==============================] - 3s 527us/step - loss: 0.2888 - accuracy: 0.8795 - val_loss: 0.3973 - val_accuracy: 0.8429\n",
      "Epoch 86/100\n",
      "5359/5359 [==============================] - 3s 493us/step - loss: 0.2879 - accuracy: 0.8815 - val_loss: 0.3999 - val_accuracy: 0.8387\n",
      "Epoch 87/100\n",
      "5359/5359 [==============================] - 3s 501us/step - loss: 0.2880 - accuracy: 0.8808 - val_loss: 0.4012 - val_accuracy: 0.8463\n",
      "Epoch 88/100\n",
      "5359/5359 [==============================] - 3s 501us/step - loss: 0.2877 - accuracy: 0.8808 - val_loss: 0.4016 - val_accuracy: 0.8383\n",
      "Epoch 89/100\n",
      "5359/5359 [==============================] - 3s 480us/step - loss: 0.2881 - accuracy: 0.8809 - val_loss: 0.4011 - val_accuracy: 0.8474\n",
      "Epoch 90/100\n",
      "5359/5359 [==============================] - 2s 435us/step - loss: 0.2893 - accuracy: 0.8802 - val_loss: 0.4002 - val_accuracy: 0.8421\n",
      "Epoch 91/100\n",
      "5359/5359 [==============================] - 2s 451us/step - loss: 0.2863 - accuracy: 0.8809 - val_loss: 0.4017 - val_accuracy: 0.8444\n",
      "Epoch 92/100\n",
      "5359/5359 [==============================] - 3s 475us/step - loss: 0.2854 - accuracy: 0.8815 - val_loss: 0.4034 - val_accuracy: 0.8391\n",
      "Epoch 93/100\n",
      "5359/5359 [==============================] - 2s 453us/step - loss: 0.2876 - accuracy: 0.8795 - val_loss: 0.4016 - val_accuracy: 0.8432\n",
      "Epoch 94/100\n",
      "5359/5359 [==============================] - 2s 457us/step - loss: 0.2859 - accuracy: 0.8789 - val_loss: 0.4059 - val_accuracy: 0.8444\n",
      "Epoch 95/100\n",
      "5359/5359 [==============================] - 3s 506us/step - loss: 0.2858 - accuracy: 0.8787 - val_loss: 0.3963 - val_accuracy: 0.8440\n",
      "Epoch 96/100\n",
      "5359/5359 [==============================] - 3s 500us/step - loss: 0.2869 - accuracy: 0.8795 - val_loss: 0.4032 - val_accuracy: 0.8417\n",
      "Epoch 97/100\n",
      "5359/5359 [==============================] - 2s 461us/step - loss: 0.2847 - accuracy: 0.8809 - val_loss: 0.3987 - val_accuracy: 0.8455\n",
      "Epoch 98/100\n",
      "5359/5359 [==============================] - 2s 449us/step - loss: 0.2849 - accuracy: 0.8832 - val_loss: 0.4048 - val_accuracy: 0.8391\n",
      "Epoch 99/100\n",
      "5359/5359 [==============================] - 3s 467us/step - loss: 0.2849 - accuracy: 0.8808 - val_loss: 0.4063 - val_accuracy: 0.8387\n",
      "Epoch 100/100\n",
      "5359/5359 [==============================] - 3s 650us/step - loss: 0.2847 - accuracy: 0.8817 - val_loss: 0.4037 - val_accuracy: 0.8504\n"
     ]
    }
   ],
   "source": [
    "model_history=classfier.fit(X_train,Y_train,validation_split=0.33,batch_size=10,nb_epoch=100)"
   ]
  },
  {
   "cell_type": "code",
   "execution_count": 68,
   "metadata": {},
   "outputs": [],
   "source": [
    "y_pred=classfier.predict(X_test)\n",
    "y_pred=(y_pred>0.5)"
   ]
  },
  {
   "cell_type": "code",
   "execution_count": 69,
   "metadata": {},
   "outputs": [
    {
     "data": {
      "text/plain": [
       "array([[1527,   80],\n",
       "       [ 218,  175]])"
      ]
     },
     "execution_count": 69,
     "metadata": {},
     "output_type": "execute_result"
    }
   ],
   "source": [
    "from sklearn.metrics import confusion_matrix\n",
    "cm=confusion_matrix(Y_test,y_pred)\n",
    "cm"
   ]
  },
  {
   "cell_type": "code",
   "execution_count": 70,
   "metadata": {},
   "outputs": [
    {
     "data": {
      "text/plain": [
       "0.851"
      ]
     },
     "execution_count": 70,
     "metadata": {},
     "output_type": "execute_result"
    }
   ],
   "source": [
    "from sklearn.metrics import accuracy_score\n",
    "score=accuracy_score(Y_test,y_pred)\n",
    "score"
   ]
  },
  {
   "cell_type": "code",
   "execution_count": null,
   "metadata": {},
   "outputs": [],
   "source": []
  }
 ],
 "metadata": {
  "kernelspec": {
   "display_name": "Python 3",
   "language": "python",
   "name": "python3"
  },
  "language_info": {
   "codemirror_mode": {
    "name": "ipython",
    "version": 3
   },
   "file_extension": ".py",
   "mimetype": "text/x-python",
   "name": "python",
   "nbconvert_exporter": "python",
   "pygments_lexer": "ipython3",
   "version": "3.7.6"
  }
 },
 "nbformat": 4,
 "nbformat_minor": 2
}
